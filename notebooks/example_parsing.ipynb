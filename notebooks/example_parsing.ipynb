{
 "cells": [
  {
   "cell_type": "code",
   "execution_count": null,
   "source": [
    "%load_ext autoreload\n",
    "%autoreload 2"
   ],
   "metadata": {
    "collapsed": false
   },
   "outputs": []
  },
  {
   "cell_type": "code",
   "execution_count": null,
   "source": [
    "from incremental_parsing.lex_earley.lark_grammar import get_python_context\n",
    "from incremental_parsing.lex_earley.lex_earley import lex_earley_init, lex_earley_run, lex_earley_to_middle, is_complete\n",
    "from incremental_parsing.evaluation.text_cuts import cut_text_random\n",
    "\n",
    "import datasets\n",
    "import random"
   ],
   "metadata": {
    "collapsed": false
   },
   "outputs": []
  },
  {
   "cell_type": "code",
   "execution_count": null,
   "source": [
    "context = get_python_context()\n",
    "init_state = lex_earley_init(context)\n",
    "dataset = datasets.load_dataset(\"bigcode/the-stack-smol-xl\", data_dir=\"data/python\")[\"train\"]"
   ],
   "metadata": {
    "collapsed": false
   },
   "outputs": []
  },
  {
   "cell_type": "code",
   "outputs": [],
   "source": [
    "DATA_IDX = 0\n",
    "CUT_IDX = 0"
   ],
   "metadata": {
    "collapsed": false
   },
   "execution_count": null
  },
  {
   "cell_type": "code",
   "execution_count": null,
   "source": [
    "# Load data from the stack\n",
    "data = dataset[DATA_IDX][\"content\"]\n",
    "random.seed(hash((DATA_IDX, CUT_IDX)) % (2 ** 32))\n",
    "prefix, hidden_middle, suffix = cut_text_random(data, 0, .9, .2, None)\n",
    "suffix += \"\\n\"  # This line is important\n",
    "pre_branch_num = 0\n",
    "post_branch_num = 0\n"
   ],
   "metadata": {
    "collapsed": false
   },
   "outputs": []
  },
  {
   "cell_type": "code",
   "outputs": [],
   "source": [
    "print(prefix)"
   ],
   "metadata": {
    "collapsed": false
   },
   "execution_count": null
  },
  {
   "cell_type": "code",
   "execution_count": null,
   "source": [
    "# Or manually specify a prefix and suffix\n",
    "if False:\n",
    "    prefix = \"\"\n",
    "    suffix = \"else d\\n\"\n",
    "    pre_branch_num = 0\n",
    "    post_branch_num = 0"
   ],
   "metadata": {
    "collapsed": false
   },
   "outputs": []
  },
  {
   "cell_type": "code",
   "execution_count": null,
   "source": [
    "pre = lex_earley_run(context=context, state=init_state, value=prefix)"
   ],
   "metadata": {
    "collapsed": false
   },
   "outputs": []
  },
  {
   "cell_type": "code",
   "outputs": [],
   "source": [
    "mid = lex_earley_to_middle(context, pre, suffix, \"\")"
   ],
   "metadata": {
    "collapsed": false
   },
   "execution_count": null
  },
  {
   "cell_type": "code",
   "outputs": [],
   "source": [
    "post = lex_earley_run(context, mid, hidden_middle);"
   ],
   "metadata": {
    "collapsed": false
   },
   "execution_count": null
  },
  {
   "cell_type": "code",
   "outputs": [],
   "source": [
    "is_complete(context, post)"
   ],
   "metadata": {
    "collapsed": false
   },
   "execution_count": null
  },
  {
   "cell_type": "code",
   "outputs": [],
   "source": [],
   "metadata": {
    "collapsed": false
   }
  }
 ],
 "metadata": {
  "kernelspec": {
   "display_name": "Python 3",
   "language": "python",
   "name": "python3"
  },
  "language_info": {
   "codemirror_mode": {
    "name": "ipython",
    "version": 2
   },
   "file_extension": ".py",
   "mimetype": "text/x-python",
   "name": "python",
   "nbconvert_exporter": "python",
   "pygments_lexer": "ipython2",
   "version": "2.7.6"
  }
 },
 "nbformat": 4,
 "nbformat_minor": 0
}
