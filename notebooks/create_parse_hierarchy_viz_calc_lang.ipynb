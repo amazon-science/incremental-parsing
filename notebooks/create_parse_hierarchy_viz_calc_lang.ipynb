{
 "cells": [
  {
   "cell_type": "code",
   "execution_count": 1,
   "outputs": [],
   "source": [
    "%load_ext autoreload\n",
    "%autoreload 2"
   ],
   "metadata": {
    "collapsed": false,
    "ExecuteTime": {
     "end_time": "2023-08-24T16:51:37.764859Z",
     "start_time": "2023-08-24T16:51:37.724207Z"
    }
   }
  },
  {
   "cell_type": "code",
   "execution_count": 2,
   "outputs": [
    {
     "name": "stdout",
     "output_type": "stream",
     "text": [
      "Requirement already satisfied: pygraphviz in /Users/dmelcer/miniconda3/envs/IncrementalParsing/lib/python3.9/site-packages (1.9)\r\n"
     ]
    }
   ],
   "source": [
    "!pip install pygraphviz"
   ],
   "metadata": {
    "collapsed": false,
    "ExecuteTime": {
     "end_time": "2023-08-24T16:51:38.981049Z",
     "start_time": "2023-08-24T16:51:37.753346Z"
    }
   }
  },
  {
   "cell_type": "code",
   "execution_count": 3,
   "outputs": [],
   "source": [
    "from incremental_parsing.lex_earley.middle_earley import create_middle_bnf, create_parse_hierarchy\n",
    "from incremental_parsing.lex_earley.lark_grammar import get_calc_lang_context\n",
    "from incremental_parsing.lex_earley.lex_earley import lex_earley_init, lex_earley_run, _to_suffix_parser_state, force_eof\n",
    "from incremental_parsing.lex_earley.earley_nfa import EarleyNFA, tokens_to_nfa\n",
    "import networkx as nx"
   ],
   "metadata": {
    "collapsed": false,
    "ExecuteTime": {
     "end_time": "2023-08-24T16:51:39.172830Z",
     "start_time": "2023-08-24T16:51:38.981963Z"
    }
   }
  },
  {
   "cell_type": "code",
   "execution_count": 4,
   "outputs": [],
   "source": [
    "context = get_calc_lang_context()\n",
    "init_state = lex_earley_init(context)"
   ],
   "metadata": {
    "collapsed": false,
    "ExecuteTime": {
     "end_time": "2023-08-24T16:51:39.198803Z",
     "start_time": "2023-08-24T16:51:39.173176Z"
    }
   }
  },
  {
   "cell_type": "code",
   "execution_count": 5,
   "outputs": [],
   "source": [
    "prefix = \"(1\"\n",
    "suffix = \"\"\n",
    "pre_branch_num = 0\n",
    "post_branch_num = 0"
   ],
   "metadata": {
    "collapsed": false,
    "ExecuteTime": {
     "end_time": "2023-08-24T16:51:39.214941Z",
     "start_time": "2023-08-24T16:51:39.200003Z"
    }
   }
  },
  {
   "cell_type": "code",
   "execution_count": 6,
   "outputs": [],
   "source": [
    "pre = lex_earley_run(context=context, state=init_state, value=prefix)\n",
    "g_pre = create_parse_hierarchy(context.grammar, pre.branches[pre_branch_num].parser_state.earley_trie.charts, (len(pre.branches[pre_branch_num].parser_state.earley_trie.charts) - 1,))\n",
    "ag = nx.nx_agraph.to_agraph(g_pre.reverse())  # Formalization assumes arrows go in one direction, implementation has arrows go in other direction\n",
    "ag.layout(prog=\"dot\")\n",
    "ag.draw(\"pre.png\")\n",
    "suf = _to_suffix_parser_state(context=context, state=pre, suffix=suffix, make_dummy_trie=True)\n",
    "post = lex_earley_run(context=context, state=suf, value=suffix)\n",
    "post_eof = force_eof(context, post)\n",
    "branch = post_eof.branches[post_branch_num]\n",
    "tokens_reverse = list(branch.suffix_state.parser_state.earley_trie.get_reverse_token_sequence())\n",
    "token_nfa, final_states = tokens_to_nfa(tokens_reverse)\n",
    "earley_nfa = EarleyNFA(context.grammar.reverse(), token_nfa)\n",
    "g_post = create_parse_hierarchy(context.grammar, earley_nfa.charts, final_states, reverse_state_positions=True)\n",
    "ag = nx.nx_agraph.to_agraph(g_post.reverse())\n",
    "ag.layout(prog=\"dot\")\n",
    "ag.draw(\"post.png\")\n"
   ],
   "metadata": {
    "collapsed": false,
    "ExecuteTime": {
     "end_time": "2023-08-24T16:51:39.596882Z",
     "start_time": "2023-08-24T16:51:39.216128Z"
    }
   }
  },
  {
   "cell_type": "code",
   "execution_count": 7,
   "outputs": [
    {
     "name": "stdout",
     "output_type": "stream",
     "text": [
      "comma_expr : COMMA expression\n",
      " | COMMA expression comma_expr\n",
      "\n",
      "expression : LPAR expression RPAR\n",
      " | LPAR expression comma_expr RPAR\n",
      " | expression binop expression\n",
      " | unop expression\n",
      " | NUMBER\n",
      "\n",
      "binop : MINUS\n",
      " | PLUS\n",
      " | STAR\n",
      " | SLASH\n",
      "\n",
      "unop : MINUS\n",
      "\n",
      "start<0-> : expression<0->\n",
      "\n",
      "expression<0-> : RPAR\n",
      " | comma_expr RPAR\n",
      " | expression<0-> binop expression\n",
      " | expression<1-> RPAR\n",
      " | expression<1-> comma_expr RPAR\n",
      "\n",
      "expression<1-> : binop expression\n",
      " | expression<1-> binop expression\n",
      "('start<0->',)\n"
     ]
    }
   ],
   "source": [
    "r = create_middle_bnf(context.grammar, g_pre, g_post, (len(pre.branches[pre_branch_num].parser_state.earley_trie.charts) - 1,), final_states)\n",
    "print(str(r))\n",
    "print(r.top_level_rules)"
   ],
   "metadata": {
    "collapsed": false,
    "ExecuteTime": {
     "end_time": "2023-08-24T16:51:39.614994Z",
     "start_time": "2023-08-24T16:51:39.597473Z"
    }
   }
  },
  {
   "cell_type": "code",
   "execution_count": 8,
   "outputs": [
    {
     "name": "stdout",
     "output_type": "stream",
     "text": [
      "comma_expr : COMMA expression\n",
      " | COMMA expression comma_expr\n",
      "\n",
      "expression : LPAR expression RPAR\n",
      " | LPAR expression comma_expr RPAR\n",
      " | expression binop expression\n",
      " | unop expression\n",
      " | NUMBER\n",
      "\n",
      "binop : MINUS\n",
      " | PLUS\n",
      " | STAR\n",
      " | SLASH\n",
      "\n",
      "unop : MINUS\n",
      "\n",
      "expression<1-> : binop<2-> expression\n",
      " | λ\n",
      " | binop expression\n",
      " | expression<1-> binop expression\n",
      "\n",
      "expression<0-> : RPAR\n",
      " | expression<1-> RPAR\n",
      " | expression<1-> comma_expr RPAR\n",
      " | expression<0-> binop expression\n",
      " | comma_expr RPAR\n",
      " | comma_expr<2-> RPAR\n",
      "\n",
      "comma_expr<2-> : COMMA expression\n",
      " | COMMA expression comma_expr\n",
      "\n",
      "binop<2-> : SLASH\n",
      " | PLUS\n",
      " | MINUS\n",
      " | STAR\n",
      "\n",
      "start<0-> : expression<0->\n",
      "('start<0->',)\n"
     ]
    }
   ],
   "source": [
    "from incremental_parsing.lex_earley.middle_earley import create_bnf_direct\n",
    "\n",
    "relevant_charts = pre.branches[pre_branch_num].parser_state.earley_trie.charts\n",
    "r = create_bnf_direct(grammar=context.grammar, final_chart_indices=(len(relevant_charts) - 1,), charts=relevant_charts, is_right_context=False)\n",
    "print(str(r))\n",
    "print(r.top_level_rules)"
   ],
   "metadata": {
    "collapsed": false,
    "ExecuteTime": {
     "end_time": "2023-08-24T16:51:39.631Z",
     "start_time": "2023-08-24T16:51:39.613359Z"
    }
   }
  }
 ],
 "metadata": {
  "kernelspec": {
   "display_name": "Python 3",
   "language": "python",
   "name": "python3"
  },
  "language_info": {
   "codemirror_mode": {
    "name": "ipython",
    "version": 2
   },
   "file_extension": ".py",
   "mimetype": "text/x-python",
   "name": "python",
   "nbconvert_exporter": "python",
   "pygments_lexer": "ipython2",
   "version": "2.7.6"
  }
 },
 "nbformat": 4,
 "nbformat_minor": 0
}
