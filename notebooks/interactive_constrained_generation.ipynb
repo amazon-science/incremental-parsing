{
 "cells": [
  {
   "cell_type": "code",
   "execution_count": 1,
   "outputs": [],
   "source": [
    "from transformers import AutoTokenizer, AutoModelForCausalLM\n",
    "\n",
    "from incremental_parsing.generation.constrained_generation import prefix_suffix_constrained_generation\n",
    "from incremental_parsing.lex_earley.lark_grammar import get_python_context\n",
    "from ansi.colour import bg, fg\n",
    "import datetime"
   ],
   "metadata": {
    "collapsed": false,
    "ExecuteTime": {
     "end_time": "2023-08-21T16:25:41.277995Z",
     "start_time": "2023-08-21T16:25:40.011976Z"
    }
   }
  },
  {
   "cell_type": "code",
   "execution_count": 2,
   "outputs": [],
   "source": [
    "%load_ext autoreload\n",
    "%autoreload 2"
   ],
   "metadata": {
    "collapsed": false,
    "ExecuteTime": {
     "end_time": "2023-08-21T16:25:41.306744Z",
     "start_time": "2023-08-21T16:25:41.280108Z"
    }
   }
  },
  {
   "cell_type": "code",
   "execution_count": 3,
   "outputs": [],
   "source": [
    "BEAM_SIZE = 1\n",
    "MAX_GENERATION_LENGTH = 200"
   ],
   "metadata": {
    "collapsed": false,
    "ExecuteTime": {
     "end_time": "2023-08-21T16:25:41.321396Z",
     "start_time": "2023-08-21T16:25:41.305821Z"
    }
   }
  },
  {
   "cell_type": "code",
   "execution_count": 4,
   "outputs": [],
   "source": [
    "MODEL_NAME = \"bigcode/santacoder\"\n",
    "DEVICE = \"cuda:0\"\n",
    "tokenizer = AutoTokenizer.from_pretrained(MODEL_NAME)\n",
    "model = AutoModelForCausalLM.from_pretrained(MODEL_NAME, trust_remote_code=True).to(DEVICE)\n",
    "context = get_python_context()"
   ],
   "metadata": {
    "collapsed": false,
    "ExecuteTime": {
     "end_time": "2023-08-21T16:26:00.565837Z",
     "start_time": "2023-08-21T16:25:41.349982Z"
    }
   }
  },
  {
   "cell_type": "code",
   "execution_count": null,
   "outputs": [],
   "source": [
    "import random\n",
    "import datasets\n",
    "from incremental_parsing.evaluation.text_cuts import cut_text_random\n",
    "import transformers\n",
    "\n",
    "idx = 0\n",
    "cut = 0\n",
    "\n",
    "dataset = datasets.load_dataset(\"bigcode/the-stack-smol-xl\", data_dir=\"data/python\")[\"train\"]\n",
    "data = dataset[idx][\"content\"]\n",
    "random.seed(hash((idx, cut)) % (2 ** 32))\n",
    "prefix_text, middle, suffix_text = cut_text_random(data, 0, .9, .2)\n",
    "suffix_text += \"\\n\"\n",
    "\n",
    "\n",
    "begin = datetime.datetime.now()\n",
    "transformers.set_seed(hash((idx, cut, 0)) % (2 ** 32))\n",
    "\n",
    "middle_text, *_ = prefix_suffix_constrained_generation(\n",
    "    tokenizer=tokenizer, model=model, context=context, prefix_text=prefix_text,\n",
    "    suffix_text=suffix_text, beam_size=BEAM_SIZE, max_generation_length=MAX_GENERATION_LENGTH, device=DEVICE,\n",
    "    debug=True\n",
    ")\n",
    "end = datetime.datetime.now()\n",
    "td = end - begin\n",
    "\n",
    "if middle_text is None:\n",
    "    print(\"Generation failed\")\n",
    "else:\n",
    "    print(prefix_text + bg.boldgreen(fg.black(middle_text)) + suffix_text)\n",
    "\n",
    "print(f\"{int(td.total_seconds())}.{td.microseconds // 1000:03} seconds elapsed\")"
   ],
   "metadata": {
    "collapsed": false
   }
  },
  {
   "cell_type": "code",
   "execution_count": 6,
   "outputs": [
    {
     "data": {
      "text/plain": "<ast.Module at 0x7fd3240fd100>"
     },
     "execution_count": 6,
     "metadata": {},
     "output_type": "execute_result"
    }
   ],
   "source": [
    "import ast\n",
    "ast.parse(prefix_text + middle_text + suffix_text)"
   ],
   "metadata": {
    "collapsed": false,
    "ExecuteTime": {
     "end_time": "2023-08-21T16:26:04.572816Z",
     "start_time": "2023-08-21T16:26:04.445146Z"
    }
   }
  },
  {
   "cell_type": "code",
   "execution_count": null,
   "outputs": [],
   "source": [
    "print(prefix_text.replace(\"\\r\", \"\\n\") + bg.boldgreen(fg.black(middle_text.replace(\"\\r\", \"\\n\")) + suffix_text.replace(\"\\r\", \"\\n\")))"
   ],
   "metadata": {
    "collapsed": false
   }
  },
  {
   "cell_type": "code",
   "execution_count": null,
   "outputs": [],
   "source": [
    "print(data.replace(\"\\r\", \"\\n\"))"
   ],
   "metadata": {
    "collapsed": false
   }
  }
 ],
 "metadata": {
  "kernelspec": {
   "display_name": "Python 3",
   "language": "python",
   "name": "python3"
  },
  "language_info": {
   "codemirror_mode": {
    "name": "ipython",
    "version": 2
   },
   "file_extension": ".py",
   "mimetype": "text/x-python",
   "name": "python",
   "nbconvert_exporter": "python",
   "pygments_lexer": "ipython2",
   "version": "2.7.6"
  }
 },
 "nbformat": 4,
 "nbformat_minor": 0
}
