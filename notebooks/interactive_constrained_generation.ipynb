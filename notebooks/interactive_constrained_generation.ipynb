{
 "cells": [
  {
   "cell_type": "code",
   "execution_count": null,
   "source": [
    "from transformers import AutoTokenizer, AutoModelForCausalLM\n",
    "\n",
    "from incremental_parsing.generation.constrained_generation import prefix_suffix_constrained_generation\n",
    "from incremental_parsing.lex_earley.lark_grammar import get_python_context\n",
    "from ansi.colour import bg, fg\n",
    "import datetime"
   ],
   "metadata": {
    "collapsed": false
   },
   "outputs": []
  },
  {
   "cell_type": "code",
   "execution_count": null,
   "source": [
    "%load_ext autoreload\n",
    "%autoreload 2"
   ],
   "metadata": {
    "collapsed": false
   },
   "outputs": []
  },
  {
   "cell_type": "code",
   "execution_count": null,
   "source": [
    "BEAM_SIZE = 1\n",
    "MAX_GENERATION_LENGTH = 200"
   ],
   "metadata": {
    "collapsed": false
   },
   "outputs": []
  },
  {
   "cell_type": "code",
   "execution_count": null,
   "source": [
    "# NOTE: If you get a warning in this cell about weights not being fine-tuned, use an older version of the transformers library\n",
    "MODEL_NAME = \"bigcode/santacoder\"\n",
    "DEVICE = \"cuda:0\"\n",
    "tokenizer = AutoTokenizer.from_pretrained(MODEL_NAME)\n",
    "model = AutoModelForCausalLM.from_pretrained(MODEL_NAME, trust_remote_code=True).to(DEVICE)\n",
    "context = get_python_context()"
   ],
   "metadata": {
    "collapsed": false
   },
   "outputs": []
  },
  {
   "cell_type": "code",
   "execution_count": null,
   "source": [
    "import random\n",
    "import datasets\n",
    "from incremental_parsing.evaluation.text_cuts import cut_text_random\n",
    "import transformers\n",
    "\n",
    "idx = 0\n",
    "cut = 0\n",
    "\n",
    "dataset = datasets.load_dataset(\"bigcode/the-stack-smol-xl\", data_dir=\"data/python\")[\"train\"]\n",
    "data = dataset[idx][\"content\"]\n",
    "random.seed(hash((idx, cut)) % (2 ** 32))\n",
    "prefix_text, middle, suffix_text = cut_text_random(data, 0, .9, .2, None)\n",
    "suffix_text += \"\\n\"\n",
    "\n",
    "\n",
    "begin = datetime.datetime.now()\n",
    "transformers.set_seed(hash((idx, cut, 0)) % (2 ** 32))\n",
    "\n",
    "middle_text, *_ = prefix_suffix_constrained_generation(\n",
    "    tokenizer=tokenizer, model=model, context=context, prefix_text=prefix_text,\n",
    "    suffix_text=suffix_text, beam_size=BEAM_SIZE, max_generation_length=MAX_GENERATION_LENGTH, device=DEVICE,\n",
    "    debug=True\n",
    ")\n",
    "end = datetime.datetime.now()\n",
    "td = end - begin\n",
    "\n",
    "if middle_text is None:\n",
    "    print(\"Generation failed\")\n",
    "else:\n",
    "    print(prefix_text + bg.boldgreen(fg.black(middle_text)) + suffix_text)\n",
    "\n",
    "print(f\"{int(td.total_seconds())}.{td.microseconds // 1000:03} seconds elapsed\")"
   ],
   "metadata": {
    "collapsed": false
   },
   "outputs": []
  },
  {
   "cell_type": "code",
   "execution_count": null,
   "source": [
    "import ast\n",
    "ast.parse(prefix_text + middle_text + suffix_text)"
   ],
   "metadata": {
    "collapsed": false
   },
   "outputs": []
  },
  {
   "cell_type": "code",
   "execution_count": null,
   "source": [
    "# Sometimes it won't display properly if the source file used the wrong line endings. Use these next two cells to display result in that case\n",
    "print(prefix_text.replace(\"\\r\", \"\\n\") + bg.boldgreen(fg.black(middle_text.replace(\"\\r\", \"\\n\")) + suffix_text.replace(\"\\r\", \"\\n\")))"
   ],
   "metadata": {
    "collapsed": false
   },
   "outputs": []
  },
  {
   "cell_type": "code",
   "execution_count": null,
   "source": [
    "print(data.replace(\"\\r\", \"\\n\"))"
   ],
   "metadata": {
    "collapsed": false
   },
   "outputs": []
  },
  {
   "cell_type": "code",
   "outputs": [],
   "source": [],
   "metadata": {
    "collapsed": false
   }
  }
 ],
 "metadata": {
  "kernelspec": {
   "display_name": "Python 3",
   "language": "python",
   "name": "python3"
  },
  "language_info": {
   "codemirror_mode": {
    "name": "ipython",
    "version": 2
   },
   "file_extension": ".py",
   "mimetype": "text/x-python",
   "name": "python",
   "nbconvert_exporter": "python",
   "pygments_lexer": "ipython2",
   "version": "2.7.6"
  }
 },
 "nbformat": 4,
 "nbformat_minor": 0
}
