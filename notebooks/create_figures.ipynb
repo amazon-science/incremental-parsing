{
 "cells": [
  {
   "cell_type": "code",
   "execution_count": 1,
   "id": "initial_id",
   "metadata": {
    "collapsed": true,
    "ExecuteTime": {
     "end_time": "2023-08-25T18:16:14.041421Z",
     "start_time": "2023-08-25T18:16:12.991872Z"
    }
   },
   "outputs": [],
   "source": [
    "import matplotlib.pyplot as plt\n",
    "import pandas as pd\n",
    "import numpy as np"
   ]
  },
  {
   "cell_type": "code",
   "execution_count": 2,
   "outputs": [],
   "source": [
    "PATH_TO_CSV = \"path/to/results.csv\""
   ],
   "metadata": {
    "collapsed": false,
    "ExecuteTime": {
     "end_time": "2023-08-25T18:16:14.046823Z",
     "start_time": "2023-08-25T18:16:14.041165Z"
    }
   },
   "id": "ebf4258605d82e9"
  },
  {
   "cell_type": "code",
   "execution_count": 3,
   "outputs": [],
   "source": [
    "df = pd.read_csv(PATH_TO_CSV)"
   ],
   "metadata": {
    "collapsed": false,
    "ExecuteTime": {
     "end_time": "2023-08-25T18:16:14.191685Z",
     "start_time": "2023-08-25T18:16:14.043678Z"
    }
   },
   "id": "f841ad18d056789c"
  },
  {
   "cell_type": "code",
   "execution_count": 4,
   "outputs": [],
   "source": [
    "def filter_percentile(df, col, percentile):\n",
    "    threshold = df[col].quantile(percentile)\n",
    "    return df[df[col] < threshold]"
   ],
   "metadata": {
    "collapsed": false,
    "ExecuteTime": {
     "end_time": "2023-08-25T18:16:14.197129Z",
     "start_time": "2023-08-25T18:16:14.191890Z"
    }
   },
   "id": "2cb04fc4f5713094"
  },
  {
   "cell_type": "code",
   "execution_count": 5,
   "outputs": [],
   "source": [
    "df[\"context_size\"] = df[\"prefix_size\"] + df[\"suffix_size\"]\n",
    "df = df[df[\"constrained_overhead_eval_p50\"].notnull()]\n"
   ],
   "metadata": {
    "collapsed": false,
    "ExecuteTime": {
     "end_time": "2023-08-25T18:16:14.204731Z",
     "start_time": "2023-08-25T18:16:14.196928Z"
    }
   },
   "id": "820afa523f8ff143"
  },
  {
   "cell_type": "code",
   "execution_count": 6,
   "outputs": [],
   "source": [
    "def plot_with_line(df, raw_df, xcol, ycol, scatter_args, line_args):\n",
    "    plt.scatter(df[xcol], df[ycol], **scatter_args)\n",
    "    plt.plot(raw_df[xcol], np.poly1d(np.polyfit(df[xcol], df[ycol], 1))(raw_df[xcol]), **line_args)"
   ],
   "metadata": {
    "collapsed": false,
    "ExecuteTime": {
     "end_time": "2023-08-25T18:16:14.209789Z",
     "start_time": "2023-08-25T18:16:14.205372Z"
    }
   },
   "id": "b421ec9a4911a859"
  },
  {
   "cell_type": "code",
   "execution_count": null,
   "outputs": [],
   "source": [
    "plot_with_line(df, df, \"context_size\", \"constrained_overhead_eval_p50\", {\"alpha\": 0.05}, {\"color\": \"blue\", \"label\": \"Constrained\"})\n",
    "plot_with_line(df, df, \"context_size\", \"unconstrained_checking_overhead_p50\", {\"alpha\": 0.05}, {\"color\": \"orange\", \"label\": \"Checked Unconstrained\"})\n",
    "plt.xlabel(\"Context length (chars)\")\n",
    "plt.ylabel(\"Time per token (s)\")\n",
    "plt.xlim(0)\n",
    "plt.ylim((0, 0.1))\n",
    "plt.title(\"Per-token Incremental Quotient Language Check (p50)\")\n",
    "plt.legend()\n",
    "plt.savefig(\"per_token_eval_performance_p50.png\", dpi=600, format=\"png\")"
   ],
   "metadata": {
    "collapsed": false
   },
   "id": "ed8a8407d45f3959"
  },
  {
   "cell_type": "code",
   "execution_count": null,
   "outputs": [],
   "source": [
    "plot_with_line(df, df, \"context_size\", \"constrained_overhead_eval_p90\", {\"alpha\": 0.05}, {\"color\": \"blue\", \"label\": \"Constrained\"})\n",
    "plot_with_line(df, df, \"context_size\", \"unconstrained_checking_overhead_p90\", {\"alpha\": 0.05}, {\"color\": \"orange\", \"label\": \"Checked Unconstrained\"})\n",
    "plt.xlabel(\"Context length (chars)\")\n",
    "plt.ylabel(\"Time per token (s)\")\n",
    "plt.xlim(0)\n",
    "plt.ylim((0, 0.3))\n",
    "plt.title(\"Per-token Incremental Quotient Language Check (p90)\")\n",
    "plt.legend()\n",
    "plt.savefig(\"per_token_eval_performance_p90.png\", dpi=600, format=\"png\")"
   ],
   "metadata": {
    "collapsed": false
   },
   "id": "8a9efb555cb19b5c"
  },
  {
   "cell_type": "code",
   "execution_count": null,
   "outputs": [],
   "source": [
    "plot_with_line(df, df, \"context_size\", \"pre_time\", {\"alpha\": 0.05, \"color\":\"olive\"}, {\"color\":\"green\"})\n",
    "plt.xlabel(\"Context length (chars)\")\n",
    "plt.ylabel(\"Time (s)\")\n",
    "plt.xlim(0)\n",
    "plt.ylim((0, 500))\n",
    "plt.title(\"One-time Processing for Constrained Generation\")\n",
    "plt.savefig(\"one_time_processing.png\", dpi=600, format=\"png\")"
   ],
   "metadata": {
    "collapsed": false
   },
   "id": "3df59a877ee2bd97"
  }
 ],
 "metadata": {
  "kernelspec": {
   "display_name": "Python 3",
   "language": "python",
   "name": "python3"
  },
  "language_info": {
   "codemirror_mode": {
    "name": "ipython",
    "version": 2
   },
   "file_extension": ".py",
   "mimetype": "text/x-python",
   "name": "python",
   "nbconvert_exporter": "python",
   "pygments_lexer": "ipython2",
   "version": "2.7.6"
  }
 },
 "nbformat": 4,
 "nbformat_minor": 5
}
